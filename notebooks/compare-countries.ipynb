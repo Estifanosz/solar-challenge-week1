{
 "cells": [
  {
   "cell_type": "code",
   "execution_count": 2,
   "id": "14376bd8",
   "metadata": {},
   "outputs": [],
   "source": [
    "import pandas as pd\n",
    "benin = pd.read_csv('../data/benin_cleaned.csv')\n",
    "togo = pd.read_csv('../data/togo_cleaned.csv')\n",
    "sierra_leone = pd.read_csv('../data/sierraleone_cleaned.csv')"
   ]
  },
  {
   "cell_type": "code",
   "execution_count": 3,
   "id": "f74a6bcf",
   "metadata": {},
   "outputs": [
    {
     "data": {
      "image/png": "[encoded data removed]",
      "text/plain": [
       "<Figure size 1500x500 with 1 Axes>"
      ]
     },
     "metadata": {},
     "output_type": "display_data"
    }
   ],
   "source": [
    "import matplotlib.pyplot as plt\n",
    "import seaborn as sns\n",
    "\n",
    "benin['Country'] = 'Benin'\n",
    "togo['Country'] = 'Togo'\n",
    "sierra_leone['Country'] = 'Sierra Leone'\n",
    "\n",
    "df_all = pd.concat([benin, togo, sierra_leone])\n",
    "\n",
    "plt.figure(figsize=(15,5))\n",
    "sns.boxplot(x='Country', y='GHI', data=df_all)\n",
    "plt.title(\"GHI Distribution by Country\")\n",
    "plt.show()"
   ]
  },
  {
   "cell_type": "code",
   "execution_count": 4,
   "id": "8847d87e",
   "metadata": {},
   "outputs": [
    {
     "name": "stdout",
     "output_type": "stream",
     "text": [
      "                     GHI                            DNI                     \\\n",
      "                    mean median         std        mean median         std   \n",
      "Country                                                                      \n",
      "Benin         177.311831   -1.1  274.809082  121.254675   -0.2  215.812136   \n",
      "Sierra Leone   -4.913941   -2.6    4.337824   -0.255923   -0.2    0.173921   \n",
      "Togo           16.456470   -1.9   46.104802   10.199497    0.0   44.497573   \n",
      "\n",
      "                    DHI                     \n",
      "                   mean median         std  \n",
      "Country                                     \n",
      "Benin         94.807341   -1.0  143.824496  \n",
      "Sierra Leone  -5.138640   -3.8    4.054071  \n",
      "Togo          15.518560    0.0   37.672901  \n"
     ]
    }
   ],
   "source": [
    "summary = df_all.groupby('Country')[['GHI','DNI','DHI']].agg(['mean','median','std'])\n",
    "print(summary)"
   ]
  },
  {
   "cell_type": "code",
   "execution_count": 6,
   "id": "2195c94d",
   "metadata": {},
   "outputs": [
    {
     "name": "stdout",
     "output_type": "stream",
     "text": [
      "ANOVA test for GHI: F=106052.18, p=0.0000\n"
     ]
    }
   ],
   "source": [
    "from scipy.stats import f_oneway, kruskal\n",
    "\n",
    "# ANOVA for GHI\n",
    "f_stat, p_val = f_oneway(benin['GHI'], togo['GHI'], sierra_leone['GHI'])\n",
    "print(f\"ANOVA test for GHI: F={f_stat:.2f}, p={p_val:.4f}\")"
   ]
  },
  {
   "cell_type": "code",
   "execution_count": 8,
   "id": "19cd940d",
   "metadata": {},
   "outputs": [
    {
     "name": "stdout",
     "output_type": "stream",
     "text": [
      "Kruskal-Wallis Test on GHI\n",
      "H-statistic: 138335.89874701388\n",
      "p-value: 0.0\n"
     ]
    }
   ],
   "source": [
    "stat, p_val = kruskal(\n",
    "    benin[\"GHI\"].dropna(),\n",
    "    sierra_leone[\"GHI\"].dropna(),\n",
    "    togo[\"GHI\"].dropna()\n",
    ")\n",
    "\n",
    "print(\"Kruskal-Wallis Test on GHI\")\n",
    "print(\"H-statistic:\", stat)\n",
    "print(\"p-value:\", p_val)"
   ]
  },
  {
   "cell_type": "markdown",
   "id": "f138f266",
   "metadata": {},
   "source": [
    " Key Observations\n",
    "\n",
    "1. Benin exhibits the highest solar potential across all metrics (GHI, DNI, DHI), with significantly higher means and standard deviations. This indicates both strong solar irradiance and variability, making it a promising location but possibly with fluctuating solar conditions.\n",
    "\n",
    "2. Sierra Leone has the lowest solar radiation values, with negative mean values for GHI and DHI. These results suggest possible data issues or heavily clouded conditions, making it the least favorable for solar energy among the three countries.\n",
    "\n",
    "3. Togo displays relatively stable solar metrics, with moderate mean values and low-to-moderate standard deviations, especially for GHI and DHI. This could indicate consistent, though not extreme, solar potential — making it a reliable but less intense solar resource compared to Benin."
   ]
  },
  {
   "cell_type": "markdown",
   "id": "58fde8c8",
   "metadata": {},
   "source": []
  }
 ],
 "metadata": {
  "kernelspec": {
   "display_name": "Python 3",
   "language": "python",
   "name": "python3"
  },
  "language_info": {
   "codemirror_mode": {
    "name": "ipython",
    "version": 3
   },
   "file_extension": ".py",
   "mimetype": "text/x-python",
   "name": "python",
   "nbconvert_exporter": "python",
   "pygments_lexer": "ipython3",
   "version": "3.13.3"
  }
 },
 "nbformat": 4,
 "nbformat_minor": 5
}
